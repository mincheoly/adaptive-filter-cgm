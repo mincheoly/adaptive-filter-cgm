{
 "cells": [
  {
   "cell_type": "code",
   "execution_count": 1,
   "metadata": {
    "collapsed": true
   },
   "outputs": [],
   "source": [
    "import numpy as np\n",
    "import linearFilters\n",
    "import nonlinearFilters\n",
    "import cPickle as pickle\n",
    "import utils"
   ]
  },
  {
   "cell_type": "code",
   "execution_count": 2,
   "metadata": {
    "collapsed": false
   },
   "outputs": [],
   "source": [
    "# Load the training data\n",
    "with open('train_data.p', 'rb') as fp:\n",
    "    training_set = pickle.load(fp)\n",
    "# Load the test data\n",
    "with open('test_data.p', 'rb') as fp:\n",
    "    test_set = pickle.load(fp)\n",
    "# Load gold standard points\n",
    "with open('pt_true_bgm.p', 'rb') as fp:\n",
    "    gs_points = pickle.load(fp)"
   ]
  },
  {
   "cell_type": "code",
   "execution_count": 39,
   "metadata": {
    "collapsed": false
   },
   "outputs": [
    {
     "name": "stdout",
     "output_type": "stream",
     "text": [
      "(-0.014439768073902182, 0.22041328228315585, 0.23485305035705803)\n"
     ]
    }
   ],
   "source": [
    "# a = linearFilters.mu_LMS_filter(training_set, mu_fraction=0.1, num_weight=7, bias=True, causal=False)\n",
    "# a.train(num_repeat=10)\n",
    "b = linearFilters.alpha_LMS_filter(training_set, alpha=0.15, num_weight=7, bias=True, causal=False)\n",
    "b.train(num_repeat=1)\n",
    "print(utils.evaluate_filter(b, test_set, metric='MARD'))\n",
    "# c = nonlinearFilters.alpha_LMS_Volterra_filter(training_set, alpha=1, num_tap=3, order=3,  bias=True, causal=True, delay=2)\n",
    "# c.train(num_repeat=10)"
   ]
  },
  {
   "cell_type": "code",
   "execution_count": 40,
   "metadata": {
    "collapsed": false,
    "scrolled": true
   },
   "outputs": [
    {
     "name": "stdout",
     "output_type": "stream",
     "text": [
      "(0.91793462175577334, 1.1527876721128314, 0.23485305035705803)\n"
     ]
    }
   ],
   "source": [
    "reload(utils)\n",
    "# print(utils.evaluate_filter(a, test_set, metric='MARD'))\n",
    "\n",
    "print(utils.evaluate_filter(c, test_set, metric='MARD'))"
   ]
  }
 ],
 "metadata": {
  "kernelspec": {
   "display_name": "Python 2",
   "language": "python",
   "name": "python2"
  },
  "language_info": {
   "codemirror_mode": {
    "name": "ipython",
    "version": 2
   },
   "file_extension": ".py",
   "mimetype": "text/x-python",
   "name": "python",
   "nbconvert_exporter": "python",
   "pygments_lexer": "ipython2",
   "version": "2.7.13"
  }
 },
 "nbformat": 4,
 "nbformat_minor": 2
}
